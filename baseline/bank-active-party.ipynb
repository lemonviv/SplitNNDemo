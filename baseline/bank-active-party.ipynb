{
 "cells": [
  {
   "cell_type": "markdown",
   "id": "b7774d10",
   "metadata": {
    "pycharm": {
     "name": "#%% md\n"
    }
   },
   "source": [
    "# Train a neural network model on the active party's bank dataset"
   ]
  },
  {
   "cell_type": "code",
   "execution_count": 1,
   "id": "f82b4ab8",
   "metadata": {},
   "outputs": [
    {
     "data": {
      "text/plain": [
       "<torch._C.Generator at 0x7efec47bd570>"
      ]
     },
     "execution_count": 1,
     "metadata": {},
     "output_type": "execute_result"
    }
   ],
   "source": [
    "import torch\n",
    "from torch.utils.data import Dataset, DataLoader\n",
    "import torch.nn as nn\n",
    "import random\n",
    "import matplotlib.pyplot as plt\n",
    "import numpy as np\n",
    "import sys\n",
    "\n",
    "sys.path.append(\"../splitnn/\")\n",
    "\n",
    "from bank_dataset import BankDataset\n",
    "\n",
    "manual_seed = 47\n",
    "random.seed(manual_seed)\n",
    "torch.manual_seed(manual_seed)"
   ]
  },
  {
   "cell_type": "code",
   "execution_count": 2,
   "id": "898bb8cc",
   "metadata": {},
   "outputs": [
    {
     "name": "stdout",
     "output_type": "stream",
     "text": [
      "Len(samples): 7718 Positive labels sum: 3859.0\n",
      "<bank_dataset.BankDataset object at 0x7efec228da50> 7718\n",
      "example sample data:  tensor([5.2113e-01, 5.0005e-01, 5.0025e-01, 5.0008e-01, 1.0000e+00, 9.9900e-04,\n",
      "        9.9900e-04, 9.9900e-04, 1.1110e-04, 2.4994e-04])\n",
      "example sample label:  tensor(0.)\n",
      "torch.Size([10]) torch.Size([])\n"
     ]
    }
   ],
   "source": [
    "bank_set = BankDataset('../dataset/bank_additional_full_filtered_balanced_active.csv')\n",
    "print(bank_set, len(bank_set))\n",
    "\n",
    "x0, y0 = bank_set[0]\n",
    "print(\"example sample data: \", x0)\n",
    "print(\"example sample label: \", y0)\n",
    "print(x0.shape, y0.shape)"
   ]
  },
  {
   "cell_type": "code",
   "execution_count": 3,
   "id": "de580bb0",
   "metadata": {
    "collapsed": false,
    "jupyter": {
     "outputs_hidden": false
    },
    "pycharm": {
     "name": "#%%\n"
    }
   },
   "outputs": [
    {
     "name": "stdout",
     "output_type": "stream",
     "text": [
      "len(train_set): 6175\n",
      "len(test_set): 1543\n",
      "len(train_loader): 97\n",
      "len(test_loader): 25\n"
     ]
    }
   ],
   "source": [
    "# split the dataset into train_set and test_set\n",
    "ratio = 0.2\n",
    "test_len = int(len(bank_set) * 0.2)\n",
    "total_len = int(len(bank_set))\n",
    "train_len = total_len - test_len\n",
    "\n",
    "train_set, test_set = torch.utils.data.random_split(bank_set, [train_len, test_len])\n",
    "print(\"len(train_set):\", len(train_set))\n",
    "print(\"len(test_set):\", len(test_set))\n",
    "\n",
    "train_loader = torch.utils.data.DataLoader(train_set, batch_size=64, shuffle=True)\n",
    "test_loader = torch.utils.data.DataLoader(test_set, batch_size=64, shuffle=True)\n",
    "print(\"len(train_loader):\", len(train_loader))\n",
    "print(\"len(test_loader):\", len(test_loader))"
   ]
  },
  {
   "cell_type": "markdown",
   "id": "ea892198",
   "metadata": {},
   "source": [
    "### Create the NN model for the bank dataset"
   ]
  },
  {
   "cell_type": "code",
   "execution_count": 4,
   "id": "5727d306",
   "metadata": {},
   "outputs": [
    {
     "name": "stdout",
     "output_type": "stream",
     "text": [
      "input_size =  10\n"
     ]
    }
   ],
   "source": [
    "input_size = x0.shape[0]\n",
    "print(\"input_size = \", input_size)\n",
    "\n",
    "class BankPreModel(nn.Module):\n",
    "    \"\"\"\n",
    "    Define the model structure for the bank dataset\n",
    "    \"\"\"\n",
    "    def __init__(self):\n",
    "        super(BankPreModel, self).__init__()\n",
    "        self.dense = nn.Sequential(\n",
    "            nn.Linear(input_size, 32),\n",
    "            nn.ReLU(),\n",
    "            nn.Linear(32, 16),\n",
    "            nn.ReLU(),\n",
    "            nn.Linear(16, 1),\n",
    "            nn.Sigmoid()\n",
    "        )\n",
    "        \n",
    "    def forward(self, x):\n",
    "        return self.dense(x)"
   ]
  },
  {
   "cell_type": "code",
   "execution_count": 5,
   "id": "fad2a23b",
   "metadata": {},
   "outputs": [],
   "source": [
    "def check_test_accuracy(model, dataloader, correct_base):\n",
    "    correct = 0.0\n",
    "    with torch.no_grad():\n",
    "        for x, y in dataloader:\n",
    "            y_hat = model(x)\n",
    "            correct += ( (torch.zeros_like(y) + (y_hat > 0.5 ).squeeze() ) == y).sum()\n",
    "    return correct / correct_base"
   ]
  },
  {
   "cell_type": "markdown",
   "id": "9c200a8c",
   "metadata": {},
   "source": [
    "### Train the NN model"
   ]
  },
  {
   "cell_type": "code",
   "execution_count": 6,
   "id": "8b17edc4",
   "metadata": {
    "collapsed": false,
    "jupyter": {
     "outputs_hidden": false
    },
    "pycharm": {
     "name": "#%%\n"
    }
   },
   "outputs": [
    {
     "name": "stderr",
     "output_type": "stream",
     "text": [
      "/usr/local/lib/python3.7/site-packages/torch/nn/modules/loss.py:498: UserWarning: Using a target size (torch.Size([64])) that is different to the input size (torch.Size([64, 1])) is deprecated. Please ensure they have the same size.\n",
      "  return F.binary_cross_entropy(input, target, weight=self.weight, reduction=self.reduction)\n",
      "/usr/local/lib/python3.7/site-packages/torch/nn/modules/loss.py:498: UserWarning: Using a target size (torch.Size([31])) that is different to the input size (torch.Size([31, 1])) is deprecated. Please ensure they have the same size.\n",
      "  return F.binary_cross_entropy(input, target, weight=self.weight, reduction=self.reduction)\n"
     ]
    },
    {
     "name": "stdout",
     "output_type": "stream",
     "text": [
      "In epoch 0, train accuracy is 0.5757085084915161, test accuracy is 0.6020739078521729.\n",
      "In epoch 1, train accuracy is 0.6035627722740173, test accuracy is 0.6014257669448853.\n",
      "In epoch 2, train accuracy is 0.6074494123458862, test accuracy is 0.6020739078521729.\n",
      "In epoch 3, train accuracy is 0.6082590818405151, test accuracy is 0.6020739078521729.\n",
      "In epoch 4, train accuracy is 0.609554648399353, test accuracy is 0.6072585582733154.\n",
      "In epoch 5, train accuracy is 0.6108502149581909, test accuracy is 0.6066104769706726.\n",
      "In epoch 6, train accuracy is 0.6153846383094788, test accuracy is 0.6072585582733154.\n",
      "In epoch 7, train accuracy is 0.6186234951019287, test accuracy is 0.607906699180603.\n",
      "In epoch 8, train accuracy is 0.6218623518943787, test accuracy is 0.6163318157196045.\n",
      "In epoch 9, train accuracy is 0.621052622795105, test accuracy is 0.6059623956680298.\n",
      "In epoch 10, train accuracy is 0.6247773170471191, test accuracy is 0.607906699180603.\n",
      "In epoch 11, train accuracy is 0.6246153712272644, test accuracy is 0.6156837344169617.\n",
      "In epoch 12, train accuracy is 0.6285020112991333, test accuracy is 0.6027219891548157.\n",
      "In epoch 13, train accuracy is 0.6283400654792786, test accuracy is 0.6169798970222473.\n",
      "In epoch 14, train accuracy is 0.6249392628669739, test accuracy is 0.6169798970222473.\n",
      "In epoch 15, train accuracy is 0.6322267055511475, test accuracy is 0.6111471056938171.\n",
      "In epoch 16, train accuracy is 0.6323886513710022, test accuracy is 0.6066104769706726.\n",
      "In epoch 17, train accuracy is 0.6291497945785522, test accuracy is 0.6202203631401062.\n",
      "In epoch 18, train accuracy is 0.6357894539833069, test accuracy is 0.6176279783248901.\n",
      "In epoch 19, train accuracy is 0.63692307472229, test accuracy is 0.6176279783248901.\n",
      "In epoch 20, train accuracy is 0.6314169764518738, test accuracy is 0.6150356531143188.\n",
      "In epoch 21, train accuracy is 0.6328744888305664, test accuracy is 0.6189242005348206.\n",
      "In epoch 22, train accuracy is 0.6288259029388428, test accuracy is 0.6267012357711792.\n",
      "In epoch 23, train accuracy is 0.6361133456230164, test accuracy is 0.6234607696533203.\n",
      "In epoch 24, train accuracy is 0.6354655623435974, test accuracy is 0.6267012357711792.\n",
      "In epoch 25, train accuracy is 0.6391902565956116, test accuracy is 0.6247569918632507.\n",
      "In epoch 26, train accuracy is 0.6365991830825806, test accuracy is 0.6286454796791077.\n",
      "In epoch 27, train accuracy is 0.6432388424873352, test accuracy is 0.6267012357711792.\n",
      "In epoch 28, train accuracy is 0.6391902565956116, test accuracy is 0.6260531544685364.\n",
      "In epoch 29, train accuracy is 0.6406477689743042, test accuracy is 0.6247569918632507.\n",
      "In epoch 30, train accuracy is 0.6440485715866089, test accuracy is 0.6286454796791077.\n",
      "In epoch 31, train accuracy is 0.6399999856948853, test accuracy is 0.633830189704895.\n",
      "In epoch 32, train accuracy is 0.6367611289024353, test accuracy is 0.633830189704895.\n",
      "In epoch 33, train accuracy is 0.6448583006858826, test accuracy is 0.6305897831916809.\n",
      "In epoch 34, train accuracy is 0.6456680297851562, test accuracy is 0.6292935609817505.\n",
      "In epoch 35, train accuracy is 0.6453441381454468, test accuracy is 0.6247569918632507.\n",
      "In epoch 36, train accuracy is 0.6456680297851562, test accuracy is 0.6325340270996094.\n",
      "In epoch 37, train accuracy is 0.6464777588844299, test accuracy is 0.6344782710075378.\n",
      "In epoch 38, train accuracy is 0.6492307782173157, test accuracy is 0.6312378644943237.\n",
      "In epoch 39, train accuracy is 0.6495546698570251, test accuracy is 0.6364225745201111.\n",
      "In epoch 40, train accuracy is 0.6500405073165894, test accuracy is 0.6260531544685364.\n",
      "In epoch 41, train accuracy is 0.6532793641090393, test accuracy is 0.6344782710075378.\n",
      "In epoch 42, train accuracy is 0.6489068865776062, test accuracy is 0.6331821084022522.\n",
      "In epoch 43, train accuracy is 0.6548987627029419, test accuracy is 0.6377187371253967.\n",
      "In epoch 44, train accuracy is 0.6511740684509277, test accuracy is 0.6364225745201111.\n",
      "In epoch 45, train accuracy is 0.6492307782173157, test accuracy is 0.6312378644943237.\n",
      "In epoch 46, train accuracy is 0.6519837975502014, test accuracy is 0.6377187371253967.\n",
      "In epoch 47, train accuracy is 0.653441309928894, test accuracy is 0.6383668184280396.\n",
      "In epoch 48, train accuracy is 0.6514979600906372, test accuracy is 0.6325340270996094.\n",
      "In epoch 49, train accuracy is 0.6524696350097656, test accuracy is 0.6370706558227539.\n",
      "In epoch 50, train accuracy is 0.6587854027748108, test accuracy is 0.6318859457969666.\n",
      "In epoch 51, train accuracy is 0.6536032557487488, test accuracy is 0.627349317073822.\n",
      "In epoch 52, train accuracy is 0.6561943292617798, test accuracy is 0.6416072845458984.\n",
      "In epoch 53, train accuracy is 0.6542510390281677, test accuracy is 0.6286454796791077.\n",
      "In epoch 54, train accuracy is 0.6497166156768799, test accuracy is 0.6364225745201111.\n",
      "In epoch 55, train accuracy is 0.6544129848480225, test accuracy is 0.6331821084022522.\n",
      "In epoch 56, train accuracy is 0.6555465459823608, test accuracy is 0.6344782710075378.\n",
      "In epoch 57, train accuracy is 0.6563562750816345, test accuracy is 0.6377187371253967.\n",
      "In epoch 58, train accuracy is 0.6563562750816345, test accuracy is 0.6370706558227539.\n",
      "In epoch 59, train accuracy is 0.654089093208313, test accuracy is 0.6279973983764648.\n",
      "In epoch 60, train accuracy is 0.6570040583610535, test accuracy is 0.633830189704895.\n",
      "In epoch 61, train accuracy is 0.6563562750816345, test accuracy is 0.6312378644943237.\n",
      "In epoch 62, train accuracy is 0.6610526442527771, test accuracy is 0.6364225745201111.\n",
      "In epoch 63, train accuracy is 0.662510097026825, test accuracy is 0.6370706558227539.\n",
      "In epoch 64, train accuracy is 0.6604048609733582, test accuracy is 0.633830189704895.\n",
      "In epoch 65, train accuracy is 0.6604048609733582, test accuracy is 0.6305897831916809.\n",
      "In epoch 66, train accuracy is 0.6591092944145203, test accuracy is 0.6331821084022522.\n",
      "In epoch 67, train accuracy is 0.6579757332801819, test accuracy is 0.6429034471511841.\n",
      "In epoch 68, train accuracy is 0.6639676094055176, test accuracy is 0.6344782710075378.\n",
      "In epoch 69, train accuracy is 0.6563562750816345, test accuracy is 0.6441996097564697.\n",
      "In epoch 70, train accuracy is 0.6613765358924866, test accuracy is 0.6318859457969666.\n",
      "In epoch 71, train accuracy is 0.6605668067932129, test accuracy is 0.6396629810333252.\n",
      "In epoch 72, train accuracy is 0.6574898958206177, test accuracy is 0.6305897831916809.\n",
      "In epoch 73, train accuracy is 0.6591092944145203, test accuracy is 0.6351263523101807.\n",
      "In epoch 74, train accuracy is 0.6638056635856628, test accuracy is 0.633830189704895.\n",
      "In epoch 75, train accuracy is 0.6621862053871155, test accuracy is 0.6441996097564697.\n",
      "In epoch 76, train accuracy is 0.6589473485946655, test accuracy is 0.6454957723617554.\n",
      "In epoch 77, train accuracy is 0.6610526442527771, test accuracy is 0.6390148997306824.\n",
      "In epoch 78, train accuracy is 0.6607287526130676, test accuracy is 0.6351263523101807.\n",
      "In epoch 79, train accuracy is 0.6604048609733582, test accuracy is 0.633830189704895.\n",
      "In epoch 80, train accuracy is 0.659271240234375, test accuracy is 0.640311062335968.\n",
      "In epoch 81, train accuracy is 0.6621862053871155, test accuracy is 0.6351263523101807.\n",
      "In epoch 82, train accuracy is 0.6641295552253723, test accuracy is 0.6409591436386108.\n",
      "In epoch 83, train accuracy is 0.6634817719459534, test accuracy is 0.640311062335968.\n",
      "In epoch 84, train accuracy is 0.6638056635856628, test accuracy is 0.6331821084022522.\n",
      "In epoch 85, train accuracy is 0.6651012301445007, test accuracy is 0.6396629810333252.\n",
      "In epoch 86, train accuracy is 0.6641295552253723, test accuracy is 0.6416072845458984.\n",
      "In epoch 87, train accuracy is 0.6613765358924866, test accuracy is 0.6480881571769714.\n",
      "In epoch 88, train accuracy is 0.6613765358924866, test accuracy is 0.6461438536643982.\n",
      "In epoch 89, train accuracy is 0.6613765358924866, test accuracy is 0.6325340270996094.\n",
      "In epoch 90, train accuracy is 0.664939284324646, test accuracy is 0.6429034471511841.\n",
      "In epoch 91, train accuracy is 0.6662347912788391, test accuracy is 0.6364225745201111.\n",
      "In epoch 92, train accuracy is 0.6651012301445007, test accuracy is 0.6364225745201111.\n",
      "In epoch 93, train accuracy is 0.6623481512069702, test accuracy is 0.6396629810333252.\n",
      "In epoch 94, train accuracy is 0.6699594855308533, test accuracy is 0.6429034471511841.\n",
      "In epoch 95, train accuracy is 0.6633198261260986, test accuracy is 0.6435515284538269.\n",
      "In epoch 96, train accuracy is 0.6646153926849365, test accuracy is 0.6429034471511841.\n",
      "In epoch 97, train accuracy is 0.6697975993156433, test accuracy is 0.6351263523101807.\n",
      "In epoch 98, train accuracy is 0.6686639785766602, test accuracy is 0.6396629810333252.\n",
      "In epoch 99, train accuracy is 0.6663967370986938, test accuracy is 0.6422553658485413.\n"
     ]
    }
   ],
   "source": [
    "device = torch.device(\"cuda:0\" if torch.cuda.is_available() else \"cpu\")\n",
    "\n",
    "my_model = BankPreModel()\n",
    "optimizer = torch.optim.Adam(my_model.parameters())\n",
    "loss_fn = torch.nn.BCELoss()\n",
    "losses = []\n",
    "train_accuracies = []\n",
    "test_accuracies = []\n",
    "\n",
    "epochs = 100\n",
    "\n",
    "for epoch in range(epochs):\n",
    "    correct = 0.0\n",
    "    test_idx = 0\n",
    "    train_correct_base = 0.0\n",
    "    train_loss = 0.0\n",
    "    for x, y in train_loader:\n",
    "        # zero grads\n",
    "        optimizer.zero_grad()\n",
    "\n",
    "        # make prediction\n",
    "        y_hat = my_model(x)\n",
    "\n",
    "        # compute loss\n",
    "        loss = loss_fn(y_hat, y)\n",
    "\n",
    "        # back-propagation\n",
    "        loss.backward()\n",
    "\n",
    "        # update the weights\n",
    "        optimizer.step()\n",
    "\n",
    "        # compute the accuracy and record\n",
    "        train_loss += loss\n",
    "        correct += ( (torch.zeros_like(y) + (y_hat > 0.5 ).squeeze() ) == y).sum()\n",
    "        test_idx += 1\n",
    "\n",
    "        train_correct_base += x.shape[0]\n",
    "\n",
    "    train = correct / train_correct_base\n",
    "    train_accuracies.append(train)\n",
    "    test = check_test_accuracy(my_model, test_loader, len(test_set))\n",
    "    test_accuracies.append(test)\n",
    "    print(\"In epoch {}, train accuracy is {}, test accuracy is {}.\".format(epoch, train, test))\n",
    "    losses.append(train_loss)"
   ]
  },
  {
   "cell_type": "markdown",
   "id": "38395000",
   "metadata": {},
   "source": [
    "### Plot the figures for illustration"
   ]
  },
  {
   "cell_type": "code",
   "execution_count": 7,
   "id": "c18f05ce",
   "metadata": {
    "collapsed": false,
    "jupyter": {
     "outputs_hidden": false
    },
    "pycharm": {
     "name": "#%%\n"
    }
   },
   "outputs": [
    {
     "data": {
      "text/plain": [
       "Text(0.5, 1.0, 'Testing Accuracy')"
      ]
     },
     "execution_count": 7,
     "metadata": {},
     "output_type": "execute_result"
    },
    {
     "data": {
      "image/png": "[encoded data removed]",
      "text/plain": [
       "<Figure size 1296x216 with 3 Axes>"
      ]
     },
     "metadata": {
      "needs_background": "light"
     },
     "output_type": "display_data"
    }
   ],
   "source": [
    "plt.figure(figsize=(18, 3))\n",
    "\n",
    "plt.subplot(1, 3, 1)\n",
    "plt.plot(range(len(losses)), losses, '-ro')\n",
    "plt.title(\"Losses\")\n",
    "plt.subplot(1, 3, 2)\n",
    "plt.plot(range(len(train_accuracies)), train_accuracies, '-ro')\n",
    "plt.title(\"Training Accuracy\")\n",
    "plt.subplot(1, 3, 3)\n",
    "plt.plot(range(len(test_accuracies)), test_accuracies, '-ro')\n",
    "plt.title(\"Testing Accuracy\")\n",
    "plt.savefig(\"bank-active.png\")"
   ]
  },
  {
   "cell_type": "code",
   "execution_count": null,
   "id": "dd72d864",
   "metadata": {},
   "outputs": [],
   "source": []
  }
 ],
 "metadata": {
  "kernelspec": {
   "display_name": "Python 3 (ipykernel)",
   "language": "python",
   "name": "python3"
  },
  "language_info": {
   "codemirror_mode": {
    "name": "ipython",
    "version": 3
   },
   "file_extension": ".py",
   "mimetype": "text/x-python",
   "name": "python",
   "nbconvert_exporter": "python",
   "pygments_lexer": "ipython3",
   "version": "3.7.12"
  }
 },
 "nbformat": 4,
 "nbformat_minor": 5
}