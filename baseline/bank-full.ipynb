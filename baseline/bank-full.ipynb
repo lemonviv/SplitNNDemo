{
 "cells": [
  {
   "cell_type": "markdown",
   "id": "66f137e5",
   "metadata": {
    "pycharm": {
     "name": "#%% md\n"
    }
   },
   "source": [
    "# Train a neural network model on the bank full dataset"
   ]
  },
  {
   "cell_type": "code",
   "execution_count": 1,
   "id": "89348b6a",
   "metadata": {},
   "outputs": [
    {
     "data": {
      "text/plain": [
       "<torch._C.Generator at 0x7fe3bc59a550>"
      ]
     },
     "execution_count": 1,
     "metadata": {},
     "output_type": "execute_result"
    }
   ],
   "source": [
    "import torch\n",
    "from torch.utils.data import Dataset, DataLoader\n",
    "import torch.nn as nn\n",
    "import random\n",
    "import matplotlib.pyplot as plt\n",
    "import sys\n",
    "\n",
    "sys.path.append(\"../splitnn/\")\n",
    "\n",
    "from bank_dataset import BankDataset\n",
    "\n",
    "manual_seed = 47\n",
    "random.seed(manual_seed)\n",
    "torch.manual_seed(manual_seed)"
   ]
  },
  {
   "cell_type": "code",
   "execution_count": 2,
   "id": "5377c930",
   "metadata": {},
   "outputs": [
    {
     "name": "stdout",
     "output_type": "stream",
     "text": [
      "Len(samples): 7718 Positive labels sum: 3859.0\n",
      "<bank_dataset.BankDataset object at 0x7fe3ba6ee790> 7718\n",
      "example sample data:  tensor([5.2113e-01, 5.0005e-01, 5.0025e-01, 5.0008e-01, 1.0000e+00, 9.9900e-04,\n",
      "        9.9900e-04, 9.9900e-04, 1.1110e-04, 2.4994e-04, 8.1164e-02, 2.9411e-05,\n",
      "        8.0090e-03, 1.6681e-01, 1.0000e+00, 3.3347e-01, 3.4086e-01, 1.5485e-01,\n",
      "        1.7498e-01, 5.1229e-01])\n",
      "example sample label:  tensor(0.)\n",
      "torch.Size([20]) torch.Size([])\n"
     ]
    }
   ],
   "source": [
    "bank_set = BankDataset('../dataset/bank_additional_full_filtered_balanced.csv')\n",
    "print(bank_set, len(bank_set))\n",
    "\n",
    "x0, y0 = bank_set[0]\n",
    "print(\"example sample data: \", x0)\n",
    "print(\"example sample label: \", y0)\n",
    "print(x0.shape, y0.shape)"
   ]
  },
  {
   "cell_type": "code",
   "execution_count": 3,
   "id": "ed029eee",
   "metadata": {
    "collapsed": false,
    "jupyter": {
     "outputs_hidden": false
    },
    "pycharm": {
     "name": "#%%\n"
    }
   },
   "outputs": [
    {
     "name": "stdout",
     "output_type": "stream",
     "text": [
      "len(train_set): 6175\n",
      "len(test_set): 1543\n",
      "len(train_loader): 97\n",
      "len(test_loader): 25\n"
     ]
    }
   ],
   "source": [
    "# split the dataset into train_set and test_set\n",
    "ratio = 0.2\n",
    "test_len = int(len(bank_set) * ratio)\n",
    "total_len = int(len(bank_set))\n",
    "train_len = total_len - test_len\n",
    "\n",
    "train_set, test_set = torch.utils.data.random_split(bank_set, [train_len, test_len])\n",
    "print(\"len(train_set):\", len(train_set))\n",
    "print(\"len(test_set):\", len(test_set))\n",
    "\n",
    "train_loader = torch.utils.data.DataLoader(train_set, batch_size=64, shuffle=True)\n",
    "test_loader = torch.utils.data.DataLoader(test_set, batch_size=64, shuffle=True)\n",
    "print(\"len(train_loader):\", len(train_loader))\n",
    "print(\"len(test_loader):\", len(test_loader))"
   ]
  },
  {
   "cell_type": "markdown",
   "id": "25ca6bcb",
   "metadata": {
    "pycharm": {
     "name": "#%% md\n"
    }
   },
   "source": [
    "### Create the NN model for the bank dataset"
   ]
  },
  {
   "cell_type": "code",
   "execution_count": 4,
   "id": "e6221f07",
   "metadata": {
    "collapsed": false,
    "jupyter": {
     "outputs_hidden": false
    },
    "pycharm": {
     "name": "#%%\n"
    }
   },
   "outputs": [
    {
     "name": "stdout",
     "output_type": "stream",
     "text": [
      "input_size =  20\n"
     ]
    }
   ],
   "source": [
    "input_size = x0.shape[0]\n",
    "print(\"input_size = \", input_size)\n",
    "\n",
    "class BankPreModel(nn.Module):\n",
    "    \"\"\"\n",
    "    Define the model structure for the bank dataset\n",
    "    \"\"\"\n",
    "    def __init__(self):\n",
    "        super(BankPreModel, self).__init__()\n",
    "        self.dense = nn.Sequential(\n",
    "            nn.Linear(input_size, 32),\n",
    "            nn.ReLU(),\n",
    "            nn.Linear(32, 16),\n",
    "            nn.ReLU(),\n",
    "            nn.Linear(16, 1),\n",
    "            nn.Sigmoid()\n",
    "        )\n",
    "\n",
    "    def forward(self, x):\n",
    "        return self.dense(x)"
   ]
  },
  {
   "cell_type": "code",
   "execution_count": 5,
   "id": "7b6fb8b3",
   "metadata": {},
   "outputs": [],
   "source": [
    "def check_test_accuracy(model, dataloader, correct_base):\n",
    "    correct = 0.0\n",
    "    with torch.no_grad():\n",
    "        for x, y in dataloader:\n",
    "            y_hat = model(x)\n",
    "            correct += ( (torch.zeros_like(y) + (y_hat > 0.5 ).squeeze() ) == y).sum()\n",
    "    return correct / correct_base"
   ]
  },
  {
   "cell_type": "markdown",
   "id": "e0ae1e1b",
   "metadata": {
    "pycharm": {
     "name": "#%% md\n"
    }
   },
   "source": [
    "### Train the NN model"
   ]
  },
  {
   "cell_type": "code",
   "execution_count": 6,
   "id": "c322515c",
   "metadata": {
    "collapsed": false,
    "jupyter": {
     "outputs_hidden": false
    },
    "pycharm": {
     "name": "#%%\n"
    }
   },
   "outputs": [
    {
     "name": "stderr",
     "output_type": "stream",
     "text": [
      "/usr/local/lib/python3.7/site-packages/torch/nn/modules/loss.py:498: UserWarning: Using a target size (torch.Size([64])) that is different to the input size (torch.Size([64, 1])) is deprecated. Please ensure they have the same size.\n",
      "  return F.binary_cross_entropy(input, target, weight=self.weight, reduction=self.reduction)\n",
      "/usr/local/lib/python3.7/site-packages/torch/nn/modules/loss.py:498: UserWarning: Using a target size (torch.Size([31])) that is different to the input size (torch.Size([31, 1])) is deprecated. Please ensure they have the same size.\n",
      "  return F.binary_cross_entropy(input, target, weight=self.weight, reduction=self.reduction)\n"
     ]
    },
    {
     "name": "stdout",
     "output_type": "stream",
     "text": [
      "In epoch 0, train accuracy is 0.6769230961799622, test accuracy is 0.7148412466049194.\n",
      "In epoch 1, train accuracy is 0.7271255254745483, test accuracy is 0.7206740379333496.\n",
      "In epoch 2, train accuracy is 0.7494736909866333, test accuracy is 0.7459494471549988.\n",
      "In epoch 3, train accuracy is 0.7721457481384277, test accuracy is 0.7751134037971497.\n",
      "In epoch 4, train accuracy is 0.7983805537223816, test accuracy is 0.8191834092140198.\n",
      "In epoch 5, train accuracy is 0.8139271140098572, test accuracy is 0.8068697452545166.\n",
      "In epoch 6, train accuracy is 0.8310931324958801, test accuracy is 0.8295528292655945.\n",
      "In epoch 7, train accuracy is 0.8388664126396179, test accuracy is 0.840570330619812.\n",
      "In epoch 8, train accuracy is 0.8471255302429199, test accuracy is 0.8457550406455994.\n",
      "In epoch 9, train accuracy is 0.8489068746566772, test accuracy is 0.8451069593429565.\n",
      "In epoch 10, train accuracy is 0.8489068746566772, test accuracy is 0.8451069593429565.\n",
      "In epoch 11, train accuracy is 0.8495546579360962, test accuracy is 0.8464031219482422.\n",
      "In epoch 12, train accuracy is 0.8571659922599792, test accuracy is 0.8483473658561707.\n",
      "In epoch 13, train accuracy is 0.8526315689086914, test accuracy is 0.8496435284614563.\n",
      "In epoch 14, train accuracy is 0.8548988103866577, test accuracy is 0.844458818435669.\n",
      "In epoch 15, train accuracy is 0.8553845882415771, test accuracy is 0.8515878319740295.\n",
      "In epoch 16, train accuracy is 0.859271228313446, test accuracy is 0.8347375392913818.\n",
      "In epoch 17, train accuracy is 0.8594331741333008, test accuracy is 0.8489954471588135.\n",
      "In epoch 18, train accuracy is 0.8604048490524292, test accuracy is 0.8451069593429565.\n",
      "In epoch 19, train accuracy is 0.8570040464401245, test accuracy is 0.8431626558303833.\n",
      "In epoch 20, train accuracy is 0.8604048490524292, test accuracy is 0.8489954471588135.\n",
      "In epoch 21, train accuracy is 0.8610526323318481, test accuracy is 0.8522359132766724.\n",
      "In epoch 22, train accuracy is 0.8617004156112671, test accuracy is 0.8489954471588135.\n",
      "In epoch 23, train accuracy is 0.859271228313446, test accuracy is 0.8476992845535278.\n",
      "In epoch 24, train accuracy is 0.8613765239715576, test accuracy is 0.8541801571846008.\n",
      "In epoch 25, train accuracy is 0.8600809574127197, test accuracy is 0.8561244606971741.\n",
      "In epoch 26, train accuracy is 0.8628340363502502, test accuracy is 0.8457550406455994.\n",
      "In epoch 27, train accuracy is 0.8652631640434265, test accuracy is 0.8593648672103882.\n",
      "In epoch 28, train accuracy is 0.8642914891242981, test accuracy is 0.8386260271072388.\n",
      "In epoch 29, train accuracy is 0.8631578683853149, test accuracy is 0.8561244606971741.\n",
      "In epoch 30, train accuracy is 0.8610526323318481, test accuracy is 0.8457550406455994.\n",
      "In epoch 31, train accuracy is 0.8610526323318481, test accuracy is 0.8574206233024597.\n",
      "In epoch 32, train accuracy is 0.8615384697914124, test accuracy is 0.8580687046051025.\n",
      "In epoch 33, train accuracy is 0.8665587306022644, test accuracy is 0.8483473658561707.\n",
      "In epoch 34, train accuracy is 0.8680161833763123, test accuracy is 0.8554763197898865.\n",
      "In epoch 35, train accuracy is 0.8678542375564575, test accuracy is 0.8567725419998169.\n",
      "In epoch 36, train accuracy is 0.8663967847824097, test accuracy is 0.8587167859077454.\n",
      "In epoch 37, train accuracy is 0.8652631640434265, test accuracy is 0.853532075881958.\n",
      "In epoch 38, train accuracy is 0.868178129196167, test accuracy is 0.8593648672103882.\n",
      "In epoch 39, train accuracy is 0.8659109473228455, test accuracy is 0.8606610298156738.\n",
      "In epoch 40, train accuracy is 0.8710930943489075, test accuracy is 0.8567725419998169.\n",
      "In epoch 41, train accuracy is 0.8702834248542786, test accuracy is 0.8528839945793152.\n",
      "In epoch 42, train accuracy is 0.8685020208358765, test accuracy is 0.8587167859077454.\n",
      "In epoch 43, train accuracy is 0.8694736957550049, test accuracy is 0.8580687046051025.\n",
      "In epoch 44, train accuracy is 0.8694736957550049, test accuracy is 0.8626053333282471.\n",
      "In epoch 45, train accuracy is 0.8714169859886169, test accuracy is 0.8606610298156738.\n",
      "In epoch 46, train accuracy is 0.8710930943489075, test accuracy is 0.860012948513031.\n",
      "In epoch 47, train accuracy is 0.8693117499351501, test accuracy is 0.8548282384872437.\n",
      "In epoch 48, train accuracy is 0.8667206764221191, test accuracy is 0.860012948513031.\n",
      "In epoch 49, train accuracy is 0.870769202709198, test accuracy is 0.8554763197898865.\n",
      "In epoch 50, train accuracy is 0.8717408776283264, test accuracy is 0.8619572520256042.\n",
      "In epoch 51, train accuracy is 0.8730364441871643, test accuracy is 0.8619572520256042.\n",
      "In epoch 52, train accuracy is 0.8714169859886169, test accuracy is 0.860012948513031.\n",
      "In epoch 53, train accuracy is 0.8735222816467285, test accuracy is 0.8548282384872437.\n",
      "In epoch 54, train accuracy is 0.870769202709198, test accuracy is 0.8593648672103882.\n",
      "In epoch 55, train accuracy is 0.8733603358268738, test accuracy is 0.8502916693687439.\n",
      "In epoch 56, train accuracy is 0.8719028234481812, test accuracy is 0.8561244606971741.\n",
      "In epoch 57, train accuracy is 0.8722267150878906, test accuracy is 0.8541801571846008.\n",
      "In epoch 58, train accuracy is 0.8740081191062927, test accuracy is 0.860012948513031.\n",
      "In epoch 59, train accuracy is 0.8719028234481812, test accuracy is 0.8548282384872437.\n",
      "In epoch 60, train accuracy is 0.8744939565658569, test accuracy is 0.8561244606971741.\n",
      "In epoch 61, train accuracy is 0.8765991926193237, test accuracy is 0.8613091111183167.\n",
      "In epoch 62, train accuracy is 0.8743320107460022, test accuracy is 0.860012948513031.\n",
      "In epoch 63, train accuracy is 0.8756275177001953, test accuracy is 0.8567725419998169.\n",
      "In epoch 64, train accuracy is 0.8746558427810669, test accuracy is 0.8619572520256042.\n",
      "In epoch 65, train accuracy is 0.8774089217185974, test accuracy is 0.8548282384872437.\n",
      "In epoch 66, train accuracy is 0.876437246799469, test accuracy is 0.860012948513031.\n",
      "In epoch 67, train accuracy is 0.870607316493988, test accuracy is 0.860012948513031.\n",
      "In epoch 68, train accuracy is 0.8780567049980164, test accuracy is 0.8554763197898865.\n",
      "In epoch 69, train accuracy is 0.8780567049980164, test accuracy is 0.8574206233024597.\n",
      "In epoch 70, train accuracy is 0.8753036260604858, test accuracy is 0.8554763197898865.\n",
      "In epoch 71, train accuracy is 0.87578946352005, test accuracy is 0.8580687046051025.\n",
      "In epoch 72, train accuracy is 0.8778947591781616, test accuracy is 0.8580687046051025.\n",
      "In epoch 73, train accuracy is 0.8751416802406311, test accuracy is 0.8567725419998169.\n",
      "In epoch 74, train accuracy is 0.8798380494117737, test accuracy is 0.8587167859077454.\n",
      "In epoch 75, train accuracy is 0.8775708675384521, test accuracy is 0.8561244606971741.\n",
      "In epoch 76, train accuracy is 0.8791902661323547, test accuracy is 0.8561244606971741.\n",
      "In epoch 77, train accuracy is 0.8778947591781616, test accuracy is 0.8613091111183167.\n",
      "In epoch 78, train accuracy is 0.8756275177001953, test accuracy is 0.8561244606971741.\n",
      "In epoch 79, train accuracy is 0.879676103591919, test accuracy is 0.8554763197898865.\n",
      "In epoch 80, train accuracy is 0.8811336159706116, test accuracy is 0.8613091111183167.\n",
      "In epoch 81, train accuracy is 0.8788663744926453, test accuracy is 0.8639014959335327.\n",
      "In epoch 82, train accuracy is 0.8801619410514832, test accuracy is 0.8587167859077454.\n",
      "In epoch 83, train accuracy is 0.8803238868713379, test accuracy is 0.8613091111183167.\n",
      "In epoch 84, train accuracy is 0.8782186508178711, test accuracy is 0.8548282384872437.\n",
      "In epoch 85, train accuracy is 0.8770850300788879, test accuracy is 0.860012948513031.\n",
      "In epoch 86, train accuracy is 0.8762753009796143, test accuracy is 0.8574206233024597.\n",
      "In epoch 87, train accuracy is 0.8756275177001953, test accuracy is 0.8639014959335327.\n",
      "In epoch 88, train accuracy is 0.8762753009796143, test accuracy is 0.8593648672103882.\n",
      "In epoch 89, train accuracy is 0.879676103591919, test accuracy is 0.853532075881958.\n",
      "In epoch 90, train accuracy is 0.8790283203125, test accuracy is 0.8580687046051025.\n",
      "In epoch 91, train accuracy is 0.884696364402771, test accuracy is 0.860012948513031.\n",
      "In epoch 92, train accuracy is 0.8808097243309021, test accuracy is 0.8619572520256042.\n",
      "In epoch 93, train accuracy is 0.8824291229248047, test accuracy is 0.8587167859077454.\n",
      "In epoch 94, train accuracy is 0.8808097243309021, test accuracy is 0.8580687046051025.\n",
      "In epoch 95, train accuracy is 0.8791902661323547, test accuracy is 0.8587167859077454.\n",
      "In epoch 96, train accuracy is 0.879676103591919, test accuracy is 0.8613091111183167.\n",
      "In epoch 97, train accuracy is 0.8804858326911926, test accuracy is 0.8567725419998169.\n",
      "In epoch 98, train accuracy is 0.8817813992500305, test accuracy is 0.8593648672103882.\n",
      "In epoch 99, train accuracy is 0.8812955617904663, test accuracy is 0.8626053333282471.\n"
     ]
    }
   ],
   "source": [
    "device = torch.device(\"cuda:0\" if torch.cuda.is_available() else \"cpu\")\n",
    "\n",
    "my_model = BankPreModel()\n",
    "optimizer = torch.optim.Adam(my_model.parameters())\n",
    "loss_fn = torch.nn.BCELoss()\n",
    "losses = []    \n",
    "train_accuracies = []\n",
    "test_accuracies = []\n",
    "\n",
    "epochs = 100\n",
    "\n",
    "test_interval = len(train_loader) - 10\n",
    "\n",
    "for epoch in range(epochs):\n",
    "    correct = 0.0\n",
    "    test_idx = 0\n",
    "    train_correct_base = 0.0\n",
    "    train_loss = 0.0\n",
    "    for x, y in train_loader:\n",
    "        # zero grads\n",
    "        optimizer.zero_grad()\n",
    "\n",
    "        # make prediction\n",
    "        y_hat = my_model(x)\n",
    "\n",
    "        # compute loss\n",
    "        loss = loss_fn(y_hat, y)\n",
    "\n",
    "        # back-propagation\n",
    "        loss.backward()\n",
    "\n",
    "        # update the weights\n",
    "        optimizer.step()\n",
    "\n",
    "        # compute the accuracy and record\n",
    "        train_loss += loss\n",
    "        correct += ( (torch.zeros_like(y) + (y_hat > 0.5 ).squeeze() ) == y).sum()\n",
    "        test_idx += 1\n",
    "\n",
    "        train_correct_base += x.shape[0]\n",
    "        \n",
    "    train_loss = train_loss / len(train_loader)\n",
    "    train = correct / train_correct_base\n",
    "    train_accuracies.append(train)\n",
    "    test = check_test_accuracy(my_model, test_loader, len(test_set))\n",
    "    test_accuracies.append(test)\n",
    "    print(\"In epoch {}, train accuracy is {}, test accuracy is {}.\".format(epoch, train, test))\n",
    "    losses.append(train_loss)\n"
   ]
  },
  {
   "cell_type": "markdown",
   "id": "2aa54495",
   "metadata": {
    "pycharm": {
     "name": "#%% md\n"
    }
   },
   "source": [
    "### Plot the figures for illustration"
   ]
  },
  {
   "cell_type": "code",
   "execution_count": 7,
   "id": "4c8723f4",
   "metadata": {
    "collapsed": false,
    "jupyter": {
     "outputs_hidden": false
    },
    "pycharm": {
     "name": "#%%\n"
    }
   },
   "outputs": [
    {
     "data": {
      "image/png": "[encoded data removed]",
      "text/plain": [
       "<Figure size 1296x216 with 3 Axes>"
      ]
     },
     "metadata": {
      "needs_background": "light"
     },
     "output_type": "display_data"
    }
   ],
   "source": [
    "plt.figure(figsize=(18, 3))\n",
    "\n",
    "plt.subplot(1, 3, 1)\n",
    "plt.plot(range(len(losses)), losses, '-ro')\n",
    "plt.title(\"Losses\")\n",
    "plt.subplot(1, 3, 2)\n",
    "plt.plot(range(len(train_accuracies)), train_accuracies, '-ro')\n",
    "plt.title(\"Training Accuracy\")\n",
    "plt.subplot(1, 3, 3)\n",
    "plt.plot(range(len(test_accuracies)), test_accuracies, '-ro')\n",
    "plt.title(\"Testing Accuracy\")\n",
    "plt.savefig(\"bank-full.png\")"
   ]
  },
  {
   "cell_type": "code",
   "execution_count": 21,
   "id": "01d763ba",
   "metadata": {},
   "outputs": [
    {
     "name": "stdout",
     "output_type": "stream",
     "text": [
      "feature 0 with labels' pearson coefficient: (0.06836917644709085, 1.8274931833023934e-09)\n",
      "feature 1 with labels' pearson coefficient: (0.037671848837502235, 0.000932320832340851)\n",
      "feature 2 with labels' pearson coefficient: (0.05160630880576471, 5.732758128506848e-06)\n",
      "feature 3 with labels' pearson coefficient: (0.07679020021530793, 1.427693779240865e-11)\n",
      "feature 4 with labels' pearson coefficient: (nan, nan)\n",
      "feature 5 with labels' pearson coefficient: (0.013018336837641632, 0.25280944820760276)\n",
      "feature 6 with labels' pearson coefficient: (0.0014471840646521677, 0.8988472399841716)\n",
      "feature 7 with labels' pearson coefficient: (-0.24228429331053702, 1.632559941026809e-103)\n",
      "feature 8 with labels' pearson coefficient: (-0.02206303740799097, 0.052597948933691345)\n",
      "feature 9 with labels' pearson coefficient: (0.018775022894146513, 0.09908530866449006)\n",
      "feature 10 with labels' pearson coefficient: (0.43849784352214605, 0.0)\n",
      "feature 11 with labels' pearson coefficient: (-0.11724774784850749, 4.921810452737383e-25)\n",
      "feature 12 with labels' pearson coefficient: (-0.3041943137377109, 6.077615531713389e-165)\n",
      "feature 13 with labels' pearson coefficient: (0.24796013309542114, 1.748203904837083e-108)\n",
      "feature 14 with labels' pearson coefficient: (0.17259501815327016, 1.119684465389737e-52)\n",
      "feature 15 with labels' pearson coefficient: (-0.43292654043338324, 0.0)\n",
      "feature 16 with labels' pearson coefficient: (-0.1847579057964243, 3.13900724200853e-60)\n",
      "feature 17 with labels' pearson coefficient: (0.07982054228397617, 2.1796902391949017e-12)\n",
      "feature 18 with labels' pearson coefficient: (-0.4500213842391487, 0.0)\n",
      "feature 19 with labels' pearson coefficient: (-0.46972000463017005, 0.0)\n"
     ]
    },
    {
     "data": {
      "image/png": "[encoded data removed]",
      "text/plain": [
       "<Figure size 432x288 with 1 Axes>"
      ]
     },
     "metadata": {
      "needs_background": "light"
     },
     "output_type": "display_data"
    }
   ],
   "source": [
    "# Investigate the pearson coefficient between features and label\n",
    "from scipy.stats.stats import pearsonr\n",
    "import numpy as np\n",
    "\n",
    "coefs = []\n",
    "i = 0\n",
    "for i in range(bank_set.samples.shape[1]):\n",
    "    pearson_coef = pearsonr(bank_set.samples[:,i], bank_set.labels)\n",
    "    print(\"feature {} with labels' pearson coefficient: {}\".format(i, pearson_coef))\n",
    "    coefs.append(pearson_coef[0])\n",
    "\n",
    "plt.bar(np.arange(len(coefs)),coefs)\n",
    "plt.title('feature importance')\n",
    "plt.xlabel('feature id')\n",
    "plt.ylabel('pearson coefficient') \n",
    "plt.savefig(\"bank-coef.png\")"
   ]
  },
  {
   "cell_type": "code",
   "execution_count": null,
   "id": "f8b21a11-60fe-430e-b32f-366150c75bf4",
   "metadata": {},
   "outputs": [],
   "source": []
  }
 ],
 "metadata": {
  "kernelspec": {
   "display_name": "Python 3 (ipykernel)",
   "language": "python",
   "name": "python3"
  },
  "language_info": {
   "codemirror_mode": {
    "name": "ipython",
    "version": 3
   },
   "file_extension": ".py",
   "mimetype": "text/x-python",
   "name": "python",
   "nbconvert_exporter": "python",
   "pygments_lexer": "ipython3",
   "version": "3.7.12"
  }
 },
 "nbformat": 4,
 "nbformat_minor": 5
}