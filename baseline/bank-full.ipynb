{
 "cells": [
  {
   "cell_type": "markdown",
   "id": "66f137e5",
   "metadata": {
    "pycharm": {
     "name": "#%% md\n"
    }
   },
   "source": [
    "# Train a neural network model on the bank full dataset"
   ]
  },
  {
   "cell_type": "code",
   "execution_count": 1,
   "id": "89348b6a",
   "metadata": {},
   "outputs": [
    {
     "data": {
      "text/plain": [
       "<torch._C.Generator at 0x7f4020040110>"
      ]
     },
     "execution_count": 1,
     "metadata": {},
     "output_type": "execute_result"
    }
   ],
   "source": [
    "import torch\n",
    "from torch.utils.data import Dataset, DataLoader\n",
    "import torch.nn as nn\n",
    "import random\n",
    "import matplotlib.pyplot as plt\n",
    "import sys\n",
    "\n",
    "sys.path.append(\"../splitnn/\")\n",
    "\n",
    "from bank_dataset import BankDataset\n",
    "\n",
    "manual_seed = 47\n",
    "random.seed(manual_seed)\n",
    "torch.manual_seed(manual_seed)"
   ]
  },
  {
   "cell_type": "code",
   "execution_count": 2,
   "id": "5377c930",
   "metadata": {},
   "outputs": [
    {
     "name": "stdout",
     "output_type": "stream",
     "text": [
      "Len(samples): 7718 Positive labels sum: 3859.0\n",
      "<bank_dataset.BankDataset object at 0x7f3fa7dfa890> 7718\n",
      "example sample data:  tensor([1.2822e-01, 9.9990e-05, 1.0000e+00, 1.0000e+00, 9.9900e-04, 9.9900e-04,\n",
      "        9.9900e-04, 9.9900e-04, 5.5560e-01, 7.5006e-01, 5.4934e-02, 2.3809e-05,\n",
      "        1.0000e+00, 1.6664e-04, 5.0025e-01, 3.3347e-01, 4.5540e-01, 6.6947e-01,\n",
      "        9.0662e-04, 1.7051e-01])\n",
      "example sample label:  tensor(1.)\n",
      "torch.Size([20]) torch.Size([])\n"
     ]
    }
   ],
   "source": [
    "bank_set = BankDataset('../dataset/bank_additional_full_filtered_balanced.csv')\n",
    "print(bank_set, len(bank_set))\n",
    "\n",
    "x0, y0 = bank_set[0]\n",
    "print(\"example sample data: \", x0)\n",
    "print(\"example sample label: \", y0)\n",
    "print(x0.shape, y0.shape)"
   ]
  },
  {
   "cell_type": "code",
   "execution_count": 3,
   "id": "ed029eee",
   "metadata": {
    "collapsed": false,
    "jupyter": {
     "outputs_hidden": false
    },
    "pycharm": {
     "name": "#%%\n"
    }
   },
   "outputs": [
    {
     "name": "stdout",
     "output_type": "stream",
     "text": [
      "len(train_set): 6175\n",
      "len(test_set): 1543\n",
      "len(train_loader): 97\n",
      "len(test_loader): 25\n"
     ]
    }
   ],
   "source": [
    "# split the dataset into train_set and test_set\n",
    "ratio = 0.2\n",
    "test_len = int(len(bank_set) * ratio)\n",
    "total_len = int(len(bank_set))\n",
    "train_len = total_len - test_len\n",
    "\n",
    "train_set, test_set = torch.utils.data.random_split(bank_set, [train_len, test_len])\n",
    "print(\"len(train_set):\", len(train_set))\n",
    "print(\"len(test_set):\", len(test_set))\n",
    "\n",
    "train_loader = torch.utils.data.DataLoader(train_set, batch_size=64, shuffle=True)\n",
    "test_loader = torch.utils.data.DataLoader(test_set, batch_size=64, shuffle=True)\n",
    "print(\"len(train_loader):\", len(train_loader))\n",
    "print(\"len(test_loader):\", len(test_loader))"
   ]
  },
  {
   "cell_type": "markdown",
   "id": "25ca6bcb",
   "metadata": {
    "pycharm": {
     "name": "#%% md\n"
    }
   },
   "source": [
    "### Create the NN model for the bank dataset"
   ]
  },
  {
   "cell_type": "code",
   "execution_count": 4,
   "id": "e6221f07",
   "metadata": {
    "collapsed": false,
    "jupyter": {
     "outputs_hidden": false
    },
    "pycharm": {
     "name": "#%%\n"
    }
   },
   "outputs": [
    {
     "name": "stdout",
     "output_type": "stream",
     "text": [
      "input_size =  20\n"
     ]
    }
   ],
   "source": [
    "input_size = x0.shape[0]\n",
    "print(\"input_size = \", input_size)\n",
    "\n",
    "class BankPreModel(nn.Module):\n",
    "    \"\"\"\n",
    "    Define the model structure for the bank dataset\n",
    "    \"\"\"\n",
    "    def __init__(self):\n",
    "        super(BankPreModel, self).__init__()\n",
    "        self.dense = nn.Sequential(\n",
    "            nn.Linear(input_size, 32),\n",
    "            nn.ReLU(),\n",
    "            nn.Linear(32, 16),\n",
    "            nn.ReLU(),\n",
    "            nn.Linear(16, 1),\n",
    "            nn.Sigmoid()\n",
    "        )\n",
    "\n",
    "    def forward(self, x):\n",
    "        return self.dense(x)"
   ]
  },
  {
   "cell_type": "code",
   "execution_count": 5,
   "id": "7b6fb8b3",
   "metadata": {},
   "outputs": [],
   "source": [
    "def check_test_accuracy(model, dataloader, correct_base):\n",
    "    correct = 0.0\n",
    "    with torch.no_grad():\n",
    "        for x, y in dataloader:\n",
    "            y_hat = model(x)\n",
    "            correct += ( (torch.zeros_like(y) + (y_hat > 0.5 ).squeeze() ) == y).sum()\n",
    "    return correct / correct_base"
   ]
  },
  {
   "cell_type": "markdown",
   "id": "e0ae1e1b",
   "metadata": {
    "pycharm": {
     "name": "#%% md\n"
    }
   },
   "source": [
    "### Train the NN model"
   ]
  },
  {
   "cell_type": "code",
   "execution_count": 6,
   "id": "c322515c",
   "metadata": {
    "collapsed": false,
    "jupyter": {
     "outputs_hidden": false
    },
    "pycharm": {
     "name": "#%%\n"
    }
   },
   "outputs": [
    {
     "name": "stderr",
     "output_type": "stream",
     "text": [
      "/usr/local/lib/python3.7/site-packages/torch/nn/modules/loss.py:529: UserWarning: Using a target size (torch.Size([64])) that is different to the input size (torch.Size([64, 1])) is deprecated. Please ensure they have the same size.\n",
      "  return F.binary_cross_entropy(input, target, weight=self.weight, reduction=self.reduction)\n",
      "/usr/local/lib/python3.7/site-packages/torch/nn/modules/loss.py:529: UserWarning: Using a target size (torch.Size([31])) that is different to the input size (torch.Size([31, 1])) is deprecated. Please ensure they have the same size.\n",
      "  return F.binary_cross_entropy(input, target, weight=self.weight, reduction=self.reduction)\n"
     ]
    },
    {
     "name": "stdout",
     "output_type": "stream",
     "text": [
      "In epoch 0, train accuracy is 0.6869635581970215, test accuracy is 0.7297472357749939.\n",
      "In epoch 1, train accuracy is 0.7287449240684509, test accuracy is 0.7329877018928528.\n",
      "In epoch 2, train accuracy is 0.7478542327880859, test accuracy is 0.764743983745575.\n",
      "In epoch 3, train accuracy is 0.7684210538864136, test accuracy is 0.8029811978340149.\n",
      "In epoch 4, train accuracy is 0.8006477952003479, test accuracy is 0.8282566666603088.\n",
      "In epoch 5, train accuracy is 0.8173279166221619, test accuracy is 0.8522359132766724.\n",
      "In epoch 6, train accuracy is 0.835627555847168, test accuracy is 0.8548282384872437.\n",
      "In epoch 7, train accuracy is 0.8422672152519226, test accuracy is 0.8606610298156738.\n",
      "In epoch 8, train accuracy is 0.8461538553237915, test accuracy is 0.8619572520256042.\n",
      "In epoch 9, train accuracy is 0.845829963684082, test accuracy is 0.8651976585388184.\n",
      "In epoch 10, train accuracy is 0.8537651896476746, test accuracy is 0.866493821144104.\n",
      "In epoch 11, train accuracy is 0.8500404953956604, test accuracy is 0.866493821144104.\n",
      "In epoch 12, train accuracy is 0.8558704257011414, test accuracy is 0.8671419024467468.\n",
      "In epoch 13, train accuracy is 0.8544129729270935, test accuracy is 0.8677900433540344.\n",
      "In epoch 14, train accuracy is 0.8568421006202698, test accuracy is 0.866493821144104.\n",
      "In epoch 15, train accuracy is 0.8552226424217224, test accuracy is 0.8677900433540344.\n",
      "In epoch 16, train accuracy is 0.8594331741333008, test accuracy is 0.8574206233024597.\n",
      "In epoch 17, train accuracy is 0.8581376671791077, test accuracy is 0.8690862059593201.\n",
      "In epoch 18, train accuracy is 0.8595951199531555, test accuracy is 0.8684381246566772.\n",
      "In epoch 19, train accuracy is 0.8612145781517029, test accuracy is 0.8684381246566772.\n",
      "In epoch 20, train accuracy is 0.8621862530708313, test accuracy is 0.8645495772361755.\n",
      "In epoch 21, train accuracy is 0.8620243072509766, test accuracy is 0.8619572520256042.\n",
      "In epoch 22, train accuracy is 0.8638056516647339, test accuracy is 0.8613091111183167.\n",
      "In epoch 23, train accuracy is 0.8612145781517029, test accuracy is 0.8632534146308899.\n",
      "In epoch 24, train accuracy is 0.865587055683136, test accuracy is 0.8658457398414612.\n",
      "In epoch 25, train accuracy is 0.8628340363502502, test accuracy is 0.8645495772361755.\n",
      "In epoch 26, train accuracy is 0.8634817600250244, test accuracy is 0.8567725419998169.\n",
      "In epoch 27, train accuracy is 0.8633198142051697, test accuracy is 0.8658457398414612.\n",
      "In epoch 28, train accuracy is 0.8638056516647339, test accuracy is 0.860012948513031.\n",
      "In epoch 29, train accuracy is 0.865587055683136, test accuracy is 0.8632534146308899.\n",
      "In epoch 30, train accuracy is 0.8647773265838623, test accuracy is 0.8703823685646057.\n",
      "In epoch 31, train accuracy is 0.8651012182235718, test accuracy is 0.8690862059593201.\n",
      "In epoch 32, train accuracy is 0.8701214790344238, test accuracy is 0.8677900433540344.\n",
      "In epoch 33, train accuracy is 0.8688259124755859, test accuracy is 0.8651976585388184.\n",
      "In epoch 34, train accuracy is 0.8673684000968933, test accuracy is 0.8671419024467468.\n",
      "In epoch 35, train accuracy is 0.870607316493988, test accuracy is 0.8632534146308899.\n",
      "In epoch 36, train accuracy is 0.870607316493988, test accuracy is 0.8684381246566772.\n",
      "In epoch 37, train accuracy is 0.8685020208358765, test accuracy is 0.8677900433540344.\n",
      "In epoch 38, train accuracy is 0.870769202709198, test accuracy is 0.8690862059593201.\n",
      "In epoch 39, train accuracy is 0.8689878582954407, test accuracy is 0.8651976585388184.\n",
      "In epoch 40, train accuracy is 0.867530345916748, test accuracy is 0.8658457398414612.\n",
      "In epoch 41, train accuracy is 0.8702834248542786, test accuracy is 0.8658457398414612.\n",
      "In epoch 42, train accuracy is 0.8699595332145691, test accuracy is 0.8671419024467468.\n",
      "In epoch 43, train accuracy is 0.8699595332145691, test accuracy is 0.8684381246566772.\n",
      "In epoch 44, train accuracy is 0.870607316493988, test accuracy is 0.8684381246566772.\n",
      "In epoch 45, train accuracy is 0.8723886609077454, test accuracy is 0.8710304498672485.\n",
      "In epoch 46, train accuracy is 0.8715789318084717, test accuracy is 0.8626053333282471.\n",
      "In epoch 47, train accuracy is 0.8720647692680359, test accuracy is 0.8697342872619629.\n",
      "In epoch 48, train accuracy is 0.8715789318084717, test accuracy is 0.8710304498672485.\n",
      "In epoch 49, train accuracy is 0.8701214790344238, test accuracy is 0.8697342872619629.\n",
      "In epoch 50, train accuracy is 0.8722267150878906, test accuracy is 0.8710304498672485.\n",
      "In epoch 51, train accuracy is 0.870769202709198, test accuracy is 0.8677900433540344.\n",
      "In epoch 52, train accuracy is 0.8717408776283264, test accuracy is 0.8703823685646057.\n",
      "In epoch 53, train accuracy is 0.8741700649261475, test accuracy is 0.8697342872619629.\n",
      "In epoch 54, train accuracy is 0.8746558427810669, test accuracy is 0.8729747533798218.\n",
      "In epoch 55, train accuracy is 0.876437246799469, test accuracy is 0.8716785311698914.\n",
      "In epoch 56, train accuracy is 0.8735222816467285, test accuracy is 0.8677900433540344.\n",
      "In epoch 57, train accuracy is 0.8717408776283264, test accuracy is 0.8690862059593201.\n",
      "In epoch 58, train accuracy is 0.8741700649261475, test accuracy is 0.8736228346824646.\n",
      "In epoch 59, train accuracy is 0.8736842274665833, test accuracy is 0.8736228346824646.\n",
      "In epoch 60, train accuracy is 0.8715789318084717, test accuracy is 0.8716785311698914.\n",
      "In epoch 61, train accuracy is 0.8735222816467285, test accuracy is 0.8710304498672485.\n",
      "In epoch 62, train accuracy is 0.8762753009796143, test accuracy is 0.8690862059593201.\n",
      "In epoch 63, train accuracy is 0.8744939565658569, test accuracy is 0.8729747533798218.\n",
      "In epoch 64, train accuracy is 0.8710930943489075, test accuracy is 0.8716785311698914.\n",
      "In epoch 65, train accuracy is 0.8751416802406311, test accuracy is 0.8723266124725342.\n",
      "In epoch 66, train accuracy is 0.8733603358268738, test accuracy is 0.8697342872619629.\n",
      "In epoch 67, train accuracy is 0.873198390007019, test accuracy is 0.8593648672103882.\n",
      "In epoch 68, train accuracy is 0.873198390007019, test accuracy is 0.8684381246566772.\n",
      "In epoch 69, train accuracy is 0.8748177886009216, test accuracy is 0.8762151598930359.\n",
      "In epoch 70, train accuracy is 0.8728744983673096, test accuracy is 0.8710304498672485.\n",
      "In epoch 71, train accuracy is 0.8749797344207764, test accuracy is 0.8742709159851074.\n",
      "In epoch 72, train accuracy is 0.8746558427810669, test accuracy is 0.8736228346824646.\n",
      "In epoch 73, train accuracy is 0.8749797344207764, test accuracy is 0.8703823685646057.\n",
      "In epoch 74, train accuracy is 0.8753036260604858, test accuracy is 0.8736228346824646.\n",
      "In epoch 75, train accuracy is 0.8782186508178711, test accuracy is 0.8723266124725342.\n",
      "In epoch 76, train accuracy is 0.8744939565658569, test accuracy is 0.8710304498672485.\n",
      "In epoch 77, train accuracy is 0.8746558427810669, test accuracy is 0.8736228346824646.\n",
      "In epoch 78, train accuracy is 0.8754655718803406, test accuracy is 0.8723266124725342.\n",
      "In epoch 79, train accuracy is 0.8769230842590332, test accuracy is 0.8703823685646057.\n",
      "In epoch 80, train accuracy is 0.8753036260604858, test accuracy is 0.8729747533798218.\n",
      "In epoch 81, train accuracy is 0.8791902661323547, test accuracy is 0.8690862059593201.\n",
      "In epoch 82, train accuracy is 0.8751416802406311, test accuracy is 0.8710304498672485.\n",
      "In epoch 83, train accuracy is 0.8811336159706116, test accuracy is 0.8697342872619629.\n",
      "In epoch 84, train accuracy is 0.8775708675384521, test accuracy is 0.8697342872619629.\n",
      "In epoch 85, train accuracy is 0.8761133551597595, test accuracy is 0.8749189972877502.\n",
      "In epoch 86, train accuracy is 0.879676103591919, test accuracy is 0.8736228346824646.\n",
      "In epoch 87, train accuracy is 0.8765991926193237, test accuracy is 0.8755670785903931.\n",
      "In epoch 88, train accuracy is 0.8765991926193237, test accuracy is 0.8677900433540344.\n",
      "In epoch 89, train accuracy is 0.8790283203125, test accuracy is 0.8716785311698914.\n",
      "In epoch 90, train accuracy is 0.8761133551597595, test accuracy is 0.8742709159851074.\n",
      "In epoch 91, train accuracy is 0.8775708675384521, test accuracy is 0.8677900433540344.\n",
      "In epoch 92, train accuracy is 0.8767611384391785, test accuracy is 0.8723266124725342.\n",
      "In epoch 93, train accuracy is 0.8791902661323547, test accuracy is 0.8742709159851074.\n",
      "In epoch 94, train accuracy is 0.8787044286727905, test accuracy is 0.8755670785903931.\n",
      "In epoch 95, train accuracy is 0.8772469758987427, test accuracy is 0.8703823685646057.\n",
      "In epoch 96, train accuracy is 0.8791902661323547, test accuracy is 0.8703823685646057.\n",
      "In epoch 97, train accuracy is 0.879676103591919, test accuracy is 0.8703823685646057.\n",
      "In epoch 98, train accuracy is 0.8759514093399048, test accuracy is 0.8671419024467468.\n",
      "In epoch 99, train accuracy is 0.8778947591781616, test accuracy is 0.8703823685646057.\n"
     ]
    }
   ],
   "source": [
    "device = torch.device(\"cuda:0\" if torch.cuda.is_available() else \"cpu\")\n",
    "\n",
    "my_model = BankPreModel()\n",
    "optimizer = torch.optim.Adam(my_model.parameters())\n",
    "loss_fn = torch.nn.BCELoss()\n",
    "losses = []    \n",
    "train_accuracies = []\n",
    "test_accuracies = []\n",
    "\n",
    "epochs = 100\n",
    "\n",
    "test_interval = len(train_loader) - 10\n",
    "\n",
    "for epoch in range(epochs):\n",
    "    correct = 0.0\n",
    "    test_idx = 0\n",
    "    train_correct_base = 0.0\n",
    "    train_loss = 0.0\n",
    "    for x, y in train_loader:\n",
    "        # zero grads\n",
    "        optimizer.zero_grad()\n",
    "\n",
    "        # make prediction\n",
    "        y_hat = my_model(x)\n",
    "\n",
    "        # compute loss\n",
    "        loss = loss_fn(y_hat, y)\n",
    "\n",
    "        # back-propagation\n",
    "        loss.backward()\n",
    "\n",
    "        # update the weights\n",
    "        optimizer.step()\n",
    "\n",
    "        # compute the accuracy and record\n",
    "        train_loss += loss\n",
    "        correct += ( (torch.zeros_like(y) + (y_hat > 0.5 ).squeeze() ) == y).sum()\n",
    "        test_idx += 1\n",
    "\n",
    "        train_correct_base += x.shape[0]\n",
    "        \n",
    "    train_loss = train_loss / len(train_loader)\n",
    "    train = correct / train_correct_base\n",
    "    train_accuracies.append(train)\n",
    "    test = check_test_accuracy(my_model, test_loader, len(test_set))\n",
    "    test_accuracies.append(test)\n",
    "    print(\"In epoch {}, train accuracy is {}, test accuracy is {}.\".format(epoch, train, test))\n",
    "    losses.append(train_loss)\n"
   ]
  },
  {
   "cell_type": "markdown",
   "id": "2aa54495",
   "metadata": {
    "pycharm": {
     "name": "#%% md\n"
    }
   },
   "source": [
    "### Plot the figures for illustration"
   ]
  },
  {
   "cell_type": "code",
   "execution_count": 7,
   "id": "4c8723f4",
   "metadata": {
    "collapsed": false,
    "jupyter": {
     "outputs_hidden": false
    },
    "pycharm": {
     "name": "#%%\n"
    }
   },
   "outputs": [
    {
     "data": {
      "image/png": "[encoded data removed]",
      "text/plain": [
       "<Figure size 1296x216 with 3 Axes>"
      ]
     },
     "metadata": {
      "needs_background": "light"
     },
     "output_type": "display_data"
    }
   ],
   "source": [
    "plt.figure(figsize=(18, 3))\n",
    "\n",
    "plt.subplot(1, 3, 1)\n",
    "plt.plot(range(len(losses)), losses, '-ro')\n",
    "plt.title(\"Losses\")\n",
    "plt.subplot(1, 3, 2)\n",
    "plt.plot(range(len(train_accuracies)), train_accuracies, '-ro')\n",
    "plt.title(\"Training Accuracy\")\n",
    "plt.subplot(1, 3, 3)\n",
    "plt.plot(range(len(test_accuracies)), test_accuracies, '-ro')\n",
    "plt.title(\"Testing Accuracy\")\n",
    "plt.savefig(\"../tmp/bank-full.png\")"
   ]
  },
  {
   "cell_type": "code",
   "execution_count": 8,
   "id": "01d763ba",
   "metadata": {},
   "outputs": [
    {
     "name": "stdout",
     "output_type": "stream",
     "text": [
      "feature 0 with labels' pearson coefficient: (0.05991780610561468, 1.3807710195378895e-07)\n",
      "feature 1 with labels' pearson coefficient: (0.034472992818487896, 0.002454165368412056)\n",
      "feature 2 with labels' pearson coefficient: (0.059462223157724745, 1.7166538620252e-07)\n",
      "feature 3 with labels' pearson coefficient: (0.044787026355510046, 8.285989517882202e-05)\n",
      "feature 4 with labels' pearson coefficient: (-0.011383498374702665, 0.3173418664543253)\n",
      "feature 5 with labels' pearson coefficient: (0.0075547825743005614, 0.5069426128119853)\n",
      "feature 6 with labels' pearson coefficient: (-0.01143423744698708, 0.3151894860616497)\n",
      "feature 7 with labels' pearson coefficient: (-0.23688595330691609, 6.61693761226442e-99)\n",
      "feature 8 with labels' pearson coefficient: (-0.004164741279605997, 0.7144965640445058)\n",
      "feature 9 with labels' pearson coefficient: (0.033490738916097204, 0.003254873482857232)\n",
      "feature 10 with labels' pearson coefficient: (0.43670684021454836, 0.0)\n",
      "feature 11 with labels' pearson coefficient: (-0.11473455803756433, 4.9151018914651395e-24)\n",
      "feature 12 with labels' pearson coefficient: (-0.31742027355834923, 3.2837257507567667e-180)\n",
      "feature 13 with labels' pearson coefficient: (0.2554673996015015, 2.9435155969576486e-115)\n",
      "feature 14 with labels' pearson coefficient: (0.17524672121697563, 2.811109063463911e-54)\n",
      "feature 15 with labels' pearson coefficient: (-0.4477574813732306, 0.0)\n",
      "feature 16 with labels' pearson coefficient: (-0.1888057150709682, 7.282708087067603e-63)\n",
      "feature 17 with labels' pearson coefficient: (0.07468656168777382, 5.0488396220281735e-11)\n",
      "feature 18 with labels' pearson coefficient: (-0.465553530306908, 0.0)\n",
      "feature 19 with labels' pearson coefficient: (-0.4827140336144534, 0.0)\n"
     ]
    },
    {
     "data": {
      "image/png": "[encoded data removed]",
      "text/plain": [
       "<Figure size 432x288 with 1 Axes>"
      ]
     },
     "metadata": {
      "needs_background": "light"
     },
     "output_type": "display_data"
    }
   ],
   "source": [
    "# Investigate the pearson coefficient between features and label\n",
    "from scipy.stats.stats import pearsonr\n",
    "import numpy as np\n",
    "\n",
    "coefs = []\n",
    "i = 0\n",
    "for i in range(bank_set.samples.shape[1]):\n",
    "    pearson_coef = pearsonr(bank_set.samples[:,i], bank_set.labels)\n",
    "    print(\"feature {} with labels' pearson coefficient: {}\".format(i, pearson_coef))\n",
    "    coefs.append(pearson_coef[0])\n",
    "\n",
    "plt.bar(np.arange(len(coefs)),coefs)\n",
    "plt.title('feature importance')\n",
    "plt.xlabel('feature id')\n",
    "plt.ylabel('pearson coefficient') \n",
    "plt.savefig(\"../tmp/bank-coef.png\")"
   ]
  },
  {
   "cell_type": "code",
   "execution_count": null,
   "id": "f8b21a11-60fe-430e-b32f-366150c75bf4",
   "metadata": {},
   "outputs": [],
   "source": []
  }
 ],
 "metadata": {
  "kernelspec": {
   "display_name": "Python 3 (ipykernel)",
   "language": "python",
   "name": "python3"
  },
  "language_info": {
   "codemirror_mode": {
    "name": "ipython",
    "version": 3
   },
   "file_extension": ".py",
   "mimetype": "text/x-python",
   "name": "python",
   "nbconvert_exporter": "python",
   "pygments_lexer": "ipython3",
   "version": "3.7.12"
  }
 },
 "nbformat": 4,
 "nbformat_minor": 5
}
