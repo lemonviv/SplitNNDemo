{
 "cells": [
  {
   "cell_type": "markdown",
   "id": "49ea6edf-2255-4b01-a32e-d9122766367d",
   "metadata": {
    "pycharm": {
     "name": "#%% md\n"
    }
   },
   "source": [
    "# Preprocess the bank marketing dataset\n",
    "\n",
    "- Read the original [bank-additional-full.csv](https://archive.ics.uci.edu/ml/datasets/bank+marketing) dataset,\n",
    "which consists of 20 features and a binary classification label.\n",
    "\n",
    "- Preprocess steps\n",
    "    - remove samples that have unknown values\n",
    "    - encode categorical features\n",
    "    - save as bank_additional_full_filtered.csv\n",
    "    - down-sampling negative samples and save as bank_additional_full_filtered_balanced.csv\n",
    "\n",
    "- Preprocess for demo split neural network\n",
    "    - split bank_additional_full_filtered_balanced.csv into three parts\n",
    "    - first part as bank_additional_full_filtered_balanced_active.csv, which consists of\n",
    "    the first 10 features and the labels\n",
    "    - second part as bank_additional_full_filtered_balanced_passive.csv, which consists of\n",
    "    the last 10 features and the labels\n",
    "    - third party as bank_additional_full_filtered_balanced_server.csv, which consists of\n",
    "    the labels. To use the pytorch data loader, duplicate the labels twice"
   ]
  },
  {
   "cell_type": "code",
   "execution_count": 15,
   "id": "c6736032",
   "metadata": {
    "collapsed": false,
    "jupyter": {
     "outputs_hidden": false
    },
    "pycharm": {
     "name": "#%%\n"
    }
   },
   "outputs": [],
   "source": [
    "import pandas as pd\n",
    "import numpy as np\n",
    "import torch\n",
    "import random\n",
    "from torch.utils.data import Dataset"
   ]
  },
  {
   "cell_type": "code",
   "execution_count": 16,
   "id": "25b48f02-5b9a-4d03-bbb6-8fc802003b7e",
   "metadata": {
    "pycharm": {
     "name": "#%%\n"
    }
   },
   "outputs": [
    {
     "name": "stdout",
     "output_type": "stream",
     "text": [
      "               age      duration      campaign         pdays      previous  \\\n",
      "count  41188.00000  41188.000000  41188.000000  41188.000000  41188.000000   \n",
      "mean      40.02406    258.285010      2.567593    962.475454      0.172963   \n",
      "std       10.42125    259.279249      2.770014    186.910907      0.494901   \n",
      "min       17.00000      0.000000      1.000000      0.000000      0.000000   \n",
      "25%       32.00000    102.000000      1.000000    999.000000      0.000000   \n",
      "50%       38.00000    180.000000      2.000000    999.000000      0.000000   \n",
      "75%       47.00000    319.000000      3.000000    999.000000      0.000000   \n",
      "max       98.00000   4918.000000     56.000000    999.000000      7.000000   \n",
      "\n",
      "       emp.var.rate  cons.price.idx  cons.conf.idx     euribor3m   nr.employed  \n",
      "count  41188.000000    41188.000000   41188.000000  41188.000000  41188.000000  \n",
      "mean       0.081886       93.575664     -40.502600      3.621291   5167.035911  \n",
      "std        1.570960        0.578840       4.628198      1.734447     72.251528  \n",
      "min       -3.400000       92.201000     -50.800000      0.634000   4963.600000  \n",
      "25%       -1.800000       93.075000     -42.700000      1.344000   5099.100000  \n",
      "50%        1.100000       93.749000     -41.800000      4.857000   5191.000000  \n",
      "75%        1.400000       93.994000     -36.400000      4.961000   5228.100000  \n",
      "max        1.400000       94.767000     -26.900000      5.045000   5228.100000  \n",
      "age                 int64\n",
      "job                object\n",
      "marital            object\n",
      "education          object\n",
      "default            object\n",
      "housing            object\n",
      "loan               object\n",
      "contact            object\n",
      "month              object\n",
      "day_of_week        object\n",
      "duration            int64\n",
      "campaign            int64\n",
      "pdays               int64\n",
      "previous            int64\n",
      "poutcome           object\n",
      "emp.var.rate      float64\n",
      "cons.price.idx    float64\n",
      "cons.conf.idx     float64\n",
      "euribor3m         float64\n",
      "nr.employed       float64\n",
      "y                  object\n",
      "dtype: object\n"
     ]
    }
   ],
   "source": [
    "df = pd.read_csv('dataset/bank-additional-full.csv', sep=';')\n",
    "print(df.describe())\n",
    "print(df.dtypes)"
   ]
  },
  {
   "cell_type": "code",
   "execution_count": 17,
   "id": "f8f1cc85",
   "metadata": {
    "collapsed": false,
    "jupyter": {
     "outputs_hidden": false
    },
    "pycharm": {
     "name": "#%%\n"
    }
   },
   "outputs": [
    {
     "name": "stdout",
     "output_type": "stream",
     "text": [
      "[56 'housemaid' 'married' 'basic.4y' 'no' 'no' 'no' 'telephone' 'may'\n",
      " 'mon' 261 1 999 0 'nonexistent' 1.1 93.994 -36.4 4.857 5191.0 'no']\n",
      "(41188, 21)\n"
     ]
    }
   ],
   "source": [
    "bank_np = df.to_numpy()\n",
    "print(bank_np[0])\n",
    "print(bank_np.shape)"
   ]
  },
  {
   "cell_type": "markdown",
   "id": "e20b1b5f-b715-4574-a3ac-143ce59b2ca3",
   "metadata": {
    "pycharm": {
     "name": "#%% md\n"
    }
   },
   "source": [
    "### Remove samples that have unknown values"
   ]
  },
  {
   "cell_type": "code",
   "execution_count": 18,
   "id": "8c77d677",
   "metadata": {
    "collapsed": false,
    "jupyter": {
     "outputs_hidden": false
    },
    "pycharm": {
     "name": "#%%\n"
    }
   },
   "outputs": [
    {
     "name": "stdout",
     "output_type": "stream",
     "text": [
      "Before filtering, unknown value: 10700\n",
      "Dataset shape: (41188, 21)\n",
      "After filtering, unknown value: 0\n",
      "Dataset shape: (30488, 21)\n"
     ]
    }
   ],
   "source": [
    "def unknown_count(arr): \n",
    "    count = 0\n",
    "    arr_idx = []  \n",
    "    for i in range(arr.shape[0]):\n",
    "        for j in range(arr.shape[1]):\n",
    "            if arr[i][j] == \"unknown\":\n",
    "                arr_idx.append(i)\n",
    "                count += 1\n",
    "                break\n",
    "    return count, arr_idx\n",
    "            \n",
    "bank_count, bank_arr_idx = unknown_count(bank_np)\n",
    "print(\"Before filtering, unknown value:\", bank_count)\n",
    "print(\"Dataset shape:\", bank_np.shape)\n",
    "\n",
    "bank_np = np.delete(bank_np, bank_arr_idx, axis=0)\n",
    "bank_count, _ = unknown_count(bank_np)\n",
    "print(\"After filtering, unknown value:\", bank_count)\n",
    "print(\"Dataset shape:\", bank_np.shape)"
   ]
  },
  {
   "cell_type": "markdown",
   "id": "811d4d50-26e8-4997-8bba-8a830ed29c34",
   "metadata": {
    "pycharm": {
     "name": "#%% md\n"
    }
   },
   "source": [
    "### Encode categorical features"
   ]
  },
  {
   "cell_type": "code",
   "execution_count": 19,
   "id": "39f38a4b",
   "metadata": {
    "collapsed": false,
    "jupyter": {
     "outputs_hidden": false
    },
    "pycharm": {
     "name": "#%%\n"
    }
   },
   "outputs": [
    {
     "name": "stdout",
     "output_type": "stream",
     "text": [
      "Before coding:\n",
      " (30488, 21) [56 'housemaid' 'married' 'basic.4y' 'no' 'no' 'no' 'telephone' 'may'\n",
      " 'mon' 261 1 999 0 'nonexistent' 1.1 93.994 -36.4 4.857 5191.0 'no']\n",
      "After coding:\n",
      " (30488, 21) [56 3 1 0 0 0 0 1 6 1 261 1 999 0 1 1.1 93.994 -36.4 4.857 5191.0 0]\n"
     ]
    }
   ],
   "source": [
    "print(\"Before coding:\\n\", bank_np.shape, bank_np[0])\n",
    "column_categorical_idx = [1 if 'str' in str(type(ele)) else 0 for ele in bank_np[0, :]]\n",
    "for cln_idx in range(len(column_categorical_idx)):\n",
    "    if column_categorical_idx[cln_idx]:\n",
    "        _, indices = np.unique(bank_np[:, cln_idx], return_inverse=True)\n",
    "        bank_np[:, cln_idx] = indices\n",
    "print(\"After coding:\\n\", bank_np.shape, bank_np[0])\n",
    "\n",
    "# save the encoded dataset into csv file\n",
    "np.savetxt(\"dataset/bank_additional_full_filtered.csv\", bank_np, delimiter=\",\")"
   ]
  },
  {
   "cell_type": "markdown",
   "id": "671b027b",
   "metadata": {
    "pycharm": {
     "name": "#%% md\n"
    }
   },
   "source": [
    "### Down-sampling negative data samples\n",
    "\n",
    "Since the bank marketing dataset is highly imbalance, down-sampling to\n",
    "ensure it is balanced."
   ]
  },
  {
   "cell_type": "code",
   "execution_count": 22,
   "id": "2e39b941",
   "metadata": {
    "collapsed": false,
    "jupyter": {
     "outputs_hidden": false
    },
    "pycharm": {
     "name": "#%%\n"
    }
   },
   "outputs": [],
   "source": [
    "# bank dataset is highly imbalanced, down-sample the negative samples\n",
    "bank_np_labels = bank_np[:,-1]\n",
    "bank_np_samples = bank_np[:,:-1]\n",
    "balance_num = int(sum(bank_np_labels) * 2)\n",
    "bank_balance_labels = np.zeros(balance_num)\n",
    "bank_balance_samples = np.zeros((balance_num, bank_np_samples.shape[1]))\n",
    "balance_index = 0\n",
    "negative_counter = 0\n",
    "idxes = list(range(len(bank_np_labels)))\n",
    "random.shuffle(idxes)\n",
    "for i in idxes:\n",
    "    if bank_np_labels[i] == 0 and negative_counter < balance_num / 2:\n",
    "        negative_counter += 1\n",
    "        bank_balance_labels[balance_index] = bank_np_labels[i]\n",
    "        bank_balance_samples[balance_index] = bank_np_samples[i]\n",
    "        balance_index += 1\n",
    "    elif bank_np_labels[i] == 1:\n",
    "        bank_balance_labels[balance_index] = bank_np_labels[i]\n",
    "        bank_balance_samples[balance_index] = bank_np_samples[i]\n",
    "        balance_index += 1\n",
    "    if balance_index >= balance_num:\n",
    "        break"
   ]
  },
  {
   "cell_type": "code",
   "execution_count": 24,
   "id": "b502c6ab",
   "metadata": {
    "collapsed": false,
    "jupyter": {
     "outputs_hidden": false
    },
    "pycharm": {
     "name": "#%%\n"
    }
   },
   "outputs": [
    {
     "name": "stdout",
     "output_type": "stream",
     "text": [
      "bank_np_balanced[:2,:] =  [[ 3.9000e+01  2.0000e+00  1.0000e+00  1.0000e+00  0.0000e+00  0.0000e+00\n",
      "   0.0000e+00  0.0000e+00  6.0000e+00  2.0000e+00  1.2100e+02  1.0000e+00\n",
      "   9.9900e+02  0.0000e+00  1.0000e+00 -1.8000e+00  9.2893e+01 -4.6200e+01\n",
      "   1.3270e+00  5.0991e+03  0.0000e+00]\n",
      " [ 2.7000e+01  0.0000e+00  2.0000e+00  5.0000e+00  0.0000e+00  0.0000e+00\n",
      "   1.0000e+00  0.0000e+00  3.0000e+00  3.0000e+00  5.1800e+02  2.0000e+00\n",
      "   9.9900e+02  0.0000e+00  1.0000e+00  1.4000e+00  9.3918e+01 -4.2700e+01\n",
      "   4.9620e+00  5.2281e+03  0.0000e+00]]\n"
     ]
    }
   ],
   "source": [
    "# save the down-sampled bank dataset\n",
    "bank_np_balanced = bank_balance_samples\n",
    "bank_np_label = bank_balance_labels.reshape((-1, 1))\n",
    "bank_np_balanced = np.append(bank_np_balanced, bank_np_label, axis=1)\n",
    "print(\"bank_np_balanced[:2,:] = \", bank_np_balanced[:2,:])\n",
    "np.savetxt(\"dataset/bank_additional_full_filtered_balanced.csv\", bank_np_balanced, delimiter=\",\")"
   ]
  },
  {
   "cell_type": "markdown",
   "id": "a08b7188-5769-4e0a-b4ed-334184ba1986",
   "metadata": {
    "pycharm": {
     "name": "#%% md\n"
    }
   },
   "source": [
    "### Split dataset for the active party for comparison"
   ]
  },
  {
   "cell_type": "code",
   "execution_count": 25,
   "id": "aaa4c718",
   "metadata": {
    "collapsed": false,
    "jupyter": {
     "outputs_hidden": false
    },
    "pycharm": {
     "name": "#%%\n"
    }
   },
   "outputs": [
    {
     "name": "stdout",
     "output_type": "stream",
     "text": [
      "(7718, 21) [[ 3.9000e+01  2.0000e+00  1.0000e+00  1.0000e+00  0.0000e+00  0.0000e+00\n",
      "   0.0000e+00  0.0000e+00  6.0000e+00  2.0000e+00  1.2100e+02  1.0000e+00\n",
      "   9.9900e+02  0.0000e+00  1.0000e+00 -1.8000e+00  9.2893e+01 -4.6200e+01\n",
      "   1.3270e+00  5.0991e+03  0.0000e+00]\n",
      " [ 2.7000e+01  0.0000e+00  2.0000e+00  5.0000e+00  0.0000e+00  0.0000e+00\n",
      "   1.0000e+00  0.0000e+00  3.0000e+00  3.0000e+00  5.1800e+02  2.0000e+00\n",
      "   9.9900e+02  0.0000e+00  1.0000e+00  1.4000e+00  9.3918e+01 -4.2700e+01\n",
      "   4.9620e+00  5.2281e+03  0.0000e+00]]\n"
     ]
    }
   ],
   "source": [
    "full_data_table = np.genfromtxt('dataset/bank_additional_full_filtered_balanced.csv', delimiter=',')\n",
    "print(full_data_table.shape, full_data_table[0:2, :])"
   ]
  },
  {
   "cell_type": "code",
   "execution_count": 26,
   "id": "15d8f9a0-3af1-4869-aebb-79002b8c78ae",
   "metadata": {},
   "outputs": [
    {
     "name": "stdout",
     "output_type": "stream",
     "text": [
      "feature_num_per_party:  10\n"
     ]
    }
   ],
   "source": [
    "party_num = 2\n",
    "feature_num_per_party = (bank_np_balanced.shape[1] - 1) // party_num\n",
    "print(\"feature_num_per_party: \", feature_num_per_party)"
   ]
  },
  {
   "cell_type": "code",
   "execution_count": 27,
   "id": "bc454062-b7e8-48c0-b468-9ea9e9570239",
   "metadata": {},
   "outputs": [
    {
     "name": "stdout",
     "output_type": "stream",
     "text": [
      "bank_np_active.shape:  (7718, 10)\n",
      "bank_np_passive.shape:  (7718, 10)\n"
     ]
    }
   ],
   "source": [
    "bank_np_active = bank_np_balanced[:,:int(feature_num_per_party)]\n",
    "print(\"bank_np_active.shape: \", bank_np_active.shape)\n",
    "bank_np_passive = bank_np_balanced[:,int(feature_num_per_party):-1]\n",
    "print(\"bank_np_passive.shape: \", bank_np_passive.shape)"
   ]
  },
  {
   "cell_type": "code",
   "execution_count": 28,
   "id": "5bf77f8d-d68a-4a14-97af-5c0836ef8269",
   "metadata": {},
   "outputs": [
    {
     "name": "stdout",
     "output_type": "stream",
     "text": [
      "bank_np_active.shape:  (7718, 11)\n",
      "bank_np_passive.shape:  (7718, 11)\n"
     ]
    }
   ],
   "source": [
    "bank_np_label = np.reshape(bank_np_balanced[:,-1], (-1, 1))\n",
    "bank_np_active = np.append(bank_np_active, bank_np_label, axis=1)\n",
    "bank_np_passive = np.append(bank_np_passive, bank_np_label, axis=1)\n",
    "print(\"bank_np_active.shape: \", bank_np_active.shape)\n",
    "print(\"bank_np_passive.shape: \", bank_np_passive.shape)\n",
    "\n",
    "# save the split dataset for the active and passive party\n",
    "np.savetxt(\"dataset/bank_additional_full_filtered_balanced_active.csv\", bank_np_active, delimiter=\",\")\n",
    "np.savetxt(\"dataset/bank_additional_full_filtered_balanced_passive.csv\", bank_np_passive, delimiter=\",\")"
   ]
  },
  {
   "cell_type": "code",
   "execution_count": 29,
   "id": "9136c69c-fe55-48bb-8311-7a6ada09b060",
   "metadata": {},
   "outputs": [],
   "source": [
    "# duplicate the label column for the server in splitnn, to use torch data loader\n",
    "bank_np_label = np.append(bank_np_label, bank_np_label, axis=1)\n",
    "np.savetxt(\"dataset/bank_additional_full_filtered_balanced_server.csv\", bank_np_label, delimiter=\",\")\n"
   ]
  },
  {
   "cell_type": "code",
   "execution_count": null,
   "id": "a7763a89-c575-482c-af06-35583302937c",
   "metadata": {},
   "outputs": [],
   "source": []
  }
 ],
 "metadata": {
  "kernelspec": {
   "display_name": "Python 3 (ipykernel)",
   "language": "python",
   "name": "python3"
  },
  "language_info": {
   "codemirror_mode": {
    "name": "ipython",
    "version": 3
   },
   "file_extension": ".py",
   "mimetype": "text/x-python",
   "name": "python",
   "nbconvert_exporter": "python",
   "pygments_lexer": "ipython3",
   "version": "3.7.12"
  }
 },
 "nbformat": 4,
 "nbformat_minor": 5
}
